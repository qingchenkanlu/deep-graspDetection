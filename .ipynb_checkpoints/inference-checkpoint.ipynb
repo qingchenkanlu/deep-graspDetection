{
 "cells": [
  {
   "cell_type": "code",
   "execution_count": null,
   "metadata": {},
   "outputs": [],
   "source": [
    "A source code developed by Shehan Caldera (shehancaldera@gmail.com) for the purpose of predicting the robotic grasp\n",
    "rectangles using the trained RGD-CNN on the augmented Cornell Grasp data. The inference output has the\n",
    "following format ==> (RGB image, grasp rectangle params : x, y, theta, h, w ).\n",
    "\n",
    "The model has a convolutional base with the architecture of Inception-ResNet"
   ]
  }
 ],
 "metadata": {
  "kernelspec": {
   "display_name": "Python 2",
   "language": "python",
   "name": "python2"
  },
  "language_info": {
   "codemirror_mode": {
    "name": "ipython",
    "version": 2
   },
   "file_extension": ".py",
   "mimetype": "text/x-python",
   "name": "python",
   "nbconvert_exporter": "python",
   "pygments_lexer": "ipython2",
   "version": "2.7.12"
  }
 },
 "nbformat": 4,
 "nbformat_minor": 2
}
